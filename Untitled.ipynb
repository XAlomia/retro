{
 "cells": [
  {
   "cell_type": "code",
   "execution_count": 28,
   "metadata": {},
   "outputs": [],
   "source": [
    "import pandas as pd"
   ]
  },
  {
   "cell_type": "code",
   "execution_count": 29,
   "metadata": {},
   "outputs": [
    {
     "name": "stderr",
     "output_type": "stream",
     "text": [
      "C:\\Users\\Xavier\\Anaconda3\\lib\\site-packages\\IPython\\core\\interactiveshell.py:3058: DtypeWarning: Columns (63,64,65,85) have mixed types. Specify dtype option on import or set low_memory=False.\n",
      "  interactivity=interactivity, compiler=compiler, result=result)\n"
     ]
    }
   ],
   "source": [
    "#\n",
    "df = pd.read_csv(\"C:/Users/Xavier/Documents/retro/all2019.csv\", header = None)\n",
    "\n",
    "# http://www.seanlahman.com/baseball-archive/statistics/\n",
    "# headers http://chadwick.sourceforge.net/doc/cwevent.html"
   ]
  },
  {
   "cell_type": "code",
   "execution_count": 30,
   "metadata": {},
   "outputs": [
    {
     "data": {
      "text/plain": [
       "97"
      ]
     },
     "execution_count": 30,
     "metadata": {},
     "output_type": "execute_result"
    }
   ],
   "source": [
    "len(df.columns)"
   ]
  },
  {
   "cell_type": "code",
   "execution_count": 31,
   "metadata": {},
   "outputs": [],
   "source": [
    "column_names = ['GAME_ID','AWAY_TEAM_ID','INN_CT','BAT_HOME_ID','OUTS_CT','BALLS_CT','STRIKES_CT','PITCH_SEQ_TX','AWAY_SCORE_CT','HOME_SCORE_CT','BAT_ID','BAT_HAND_CD','RESP_BAT_ID','RESP_BAT_HAND_CD','PIT_ID','PIT_HAND_CD','RESP_PIT_ID','RESP_PIT_HAND_CD','POS2_FLD_ID','POS3_FLD_ID','POS4_FLD_ID','POS5_FLD_ID','POS6_FLD_ID','POS7_FLD_ID','POS8_FLD_ID','POS9_FLD_ID','BASE1_RUN_ID','BASE2_RUN_ID','BASE3_RUN_ID','EVENT_TX','LEADOFF_FL','PH_FL','BAT_FLD_CD','BAT_LINEUP_ID','EVENT_CD','BAT_EVENT_FL','AB_FL','H_FL','SH_FL','SF_FL','EVENT_OUTS_CT','DP_FL','TP_FL','RBI_CT','WP_FL','PB_FL','FLD_CD','BATTEDBALL_CD','BUNT_FL','FOUL_FL','BATTEDBALL_LOC_TX','ERR_CT','ERR1_FLD_CD','ERR1_CD','ERR2_FLD_CD','ERR2_CD','ERR3_FLD_CD','ERR3_CD','BAT_DEST_ID','RUN1_DEST_ID','RUN2_DEST_ID','RUN3_DEST_ID','BAT_PLAY_TX','RUN1_PLAY_TX','RUN2_PLAY_TX','RUN3_PLAY_TX','RUN1_SB_FL','RUN2_SB_FL','RUN3_SB_FL','RUN1_CS_FL','RUN2_CS_FL','RUN3_CS_FL','RUN1_PK_FL','RUN2_PK_FL','RUN3_PK_FL','RUN1_RESP_PIT_ID','RUN2_RESP_PIT_ID','RUN3_RESP_PIT_ID','GAME_NEW_FL','GAME_END_FL','PR_RUN1_FL','PR_RUN2_FL','PR_RUN3_FL','REMOVED_FOR_PR_RUN1_ID','REMOVED_FOR_PR_RUN2_ID','REMOVED_FOR_PR_RUN3_ID','REMOVED_FOR_PH_BAT_ID','REMOVED_FOR_PH_BAT_FLD_CD','PO1_FLD_CD','PO2_FLD_CD','PO3_FLD_CD','ASS1_FLD_CD','ASS2_FLD_CD','ASS3_FLD_CD','ASS4_FLD_CD','ASS5_FLD_CD','EVENT_ID']"
   ]
  },
  {
   "cell_type": "code",
   "execution_count": 32,
   "metadata": {},
   "outputs": [],
   "source": [
    "df.columns = column_names"
   ]
  },
  {
   "cell_type": "code",
   "execution_count": 33,
   "metadata": {},
   "outputs": [],
   "source": [
    "def is_hit(x): \n",
    "    if (x.H_FL > 0):\n",
    "        return 1 \n",
    "    else: \n",
    "        return 0 "
   ]
  },
  {
   "cell_type": "code",
   "execution_count": 35,
   "metadata": {},
   "outputs": [],
   "source": [
    "df['hit'] = df.apply(is_hit, axis = 1)\n",
    "df = df[df['EVENT_ID'] != (14,15)]"
   ]
  },
  {
   "cell_type": "code",
   "execution_count": 36,
   "metadata": {},
   "outputs": [],
   "source": [
    "h_df = df.groupby(by = 'BAT_ID').agg(Count=('hit', 'count'), Sum=('hit', 'sum'))"
   ]
  },
  {
   "cell_type": "code",
   "execution_count": 37,
   "metadata": {},
   "outputs": [],
   "source": [
    "h_df = h_df[h_df['Count'] >= 500]"
   ]
  },
  {
   "cell_type": "code",
   "execution_count": 38,
   "metadata": {},
   "outputs": [
    {
     "data": {
      "text/plain": [
       "BAT_ID\n",
       "andet001    0.312150\n",
       "lemad001    0.289706\n",
       "martk001    0.288580\n",
       "newmk001    0.284112\n",
       "albeh001    0.283688\n",
       "              ...   \n",
       "carpm002    0.185771\n",
       "hoskr001    0.175272\n",
       "odorr001    0.174267\n",
       "smoaj001    0.166023\n",
       "voged001    0.165803\n",
       "Length: 147, dtype: float64"
      ]
     },
     "execution_count": 38,
     "metadata": {},
     "output_type": "execute_result"
    }
   ],
   "source": [
    "(h_df['Sum']/h_df['Count']).sort_values(ascending = False)"
   ]
  },
  {
   "cell_type": "code",
   "execution_count": 16,
   "metadata": {},
   "outputs": [
    {
     "data": {
      "text/plain": [
       "array(['T', 'F'], dtype=object)"
      ]
     },
     "execution_count": 16,
     "metadata": {},
     "output_type": "execute_result"
    }
   ],
   "source": [
    "df.BAT_EVENT_FL.unique()"
   ]
  },
  {
   "cell_type": "code",
   "execution_count": 19,
   "metadata": {},
   "outputs": [
    {
     "data": {
      "text/html": [
       "<div>\n",
       "<style scoped>\n",
       "    .dataframe tbody tr th:only-of-type {\n",
       "        vertical-align: middle;\n",
       "    }\n",
       "\n",
       "    .dataframe tbody tr th {\n",
       "        vertical-align: top;\n",
       "    }\n",
       "\n",
       "    .dataframe thead th {\n",
       "        text-align: right;\n",
       "    }\n",
       "</style>\n",
       "<table border=\"1\" class=\"dataframe\">\n",
       "  <thead>\n",
       "    <tr style=\"text-align: right;\">\n",
       "      <th></th>\n",
       "      <th>Count</th>\n",
       "      <th>Sum</th>\n",
       "    </tr>\n",
       "    <tr>\n",
       "      <th>BAT_ID</th>\n",
       "      <th></th>\n",
       "      <th></th>\n",
       "    </tr>\n",
       "  </thead>\n",
       "  <tbody>\n",
       "    <tr>\n",
       "      <td>martk001</td>\n",
       "      <td>648</td>\n",
       "      <td>187</td>\n",
       "    </tr>\n",
       "  </tbody>\n",
       "</table>\n",
       "</div>"
      ],
      "text/plain": [
       "          Count  Sum\n",
       "BAT_ID              \n",
       "martk001    648  187"
      ]
     },
     "execution_count": 19,
     "metadata": {},
     "output_type": "execute_result"
    }
   ],
   "source": [
    "h_df[h_df.index == 'martk001']"
   ]
  },
  {
   "cell_type": "code",
   "execution_count": 23,
   "metadata": {},
   "outputs": [
    {
     "data": {
      "text/plain": [
       "array([0, 1, 4, 2, 3], dtype=int64)"
      ]
     },
     "execution_count": 23,
     "metadata": {},
     "output_type": "execute_result"
    }
   ],
   "source": [
    "df.H_FL.unique()"
   ]
  },
  {
   "cell_type": "code",
   "execution_count": 24,
   "metadata": {},
   "outputs": [
    {
     "data": {
      "text/plain": [
       "Index(['GAME_ID', 'AWAY_TEAM_ID', 'INN_CT', 'BAT_HOME_ID', 'OUTS_CT',\n",
       "       'BALLS_CT', 'STRIKES_CT', 'PITCH_SEQ_TX', 'AWAY_SCORE_CT',\n",
       "       'HOME_SCORE_CT', 'BAT_ID', 'BAT_HAND_CD', 'RESP_BAT_ID',\n",
       "       'RESP_BAT_HAND_CD', 'PIT_ID', 'PIT_HAND_CD', 'RESP_PIT_ID',\n",
       "       'RESP_PIT_HAND_CD', 'POS2_FLD_ID', 'POS3_FLD_ID', 'POS4_FLD_ID',\n",
       "       'POS5_FLD_ID', 'POS6_FLD_ID', 'POS7_FLD_ID', 'POS8_FLD_ID',\n",
       "       'POS9_FLD_ID', 'BASE1_RUN_ID', 'BASE2_RUN_ID', 'BASE3_RUN_ID',\n",
       "       'EVENT_TX', 'LEADOFF_FL', 'PH_FL', 'BAT_FLD_CD', 'BAT_LINEUP_ID',\n",
       "       'EVENT_CD', 'BAT_EVENT_FL', 'AB_FL', 'H_FL', 'SH_FL', 'SF_FL',\n",
       "       'EVENT_OUTS_CT', 'DP_FL', 'TP_FL', 'RBI_CT', 'WP_FL', 'PB_FL', 'FLD_CD',\n",
       "       'BATTEDBALL_CD', 'BUNT_FL', 'FOUL_FL', 'BATTEDBALL_LOC_TX', 'ERR_CT',\n",
       "       'ERR1_FLD_CD', 'ERR1_CD', 'ERR2_FLD_CD', 'ERR2_CD', 'ERR3_FLD_CD',\n",
       "       'ERR3_CD', 'BAT_DEST_ID', 'RUN1_DEST_ID', 'RUN2_DEST_ID',\n",
       "       'RUN3_DEST_ID', 'BAT_PLAY_TX', 'RUN1_PLAY_TX', 'RUN2_PLAY_TX',\n",
       "       'RUN3_PLAY_TX', 'RUN1_SB_FL', 'RUN2_SB_FL', 'RUN3_SB_FL', 'RUN1_CS_FL',\n",
       "       'RUN2_CS_FL', 'RUN3_CS_FL', 'RUN1_PK_FL', 'RUN2_PK_FL', 'RUN3_PK_FL',\n",
       "       'RUN1_RESP_PIT_ID', 'RUN2_RESP_PIT_ID', 'RUN3_RESP_PIT_ID',\n",
       "       'GAME_NEW_FL', 'GAME_END_FL', 'PR_RUN1_FL', 'PR_RUN2_FL', 'PR_RUN3_FL',\n",
       "       'REMOVED_FOR_PR_RUN1_ID', 'REMOVED_FOR_PR_RUN2_ID',\n",
       "       'REMOVED_FOR_PR_RUN3_ID', 'REMOVED_FOR_PH_BAT_ID',\n",
       "       'REMOVED_FOR_PH_BAT_FLD_CD', 'PO1_FLD_CD', 'PO2_FLD_CD', 'PO3_FLD_CD',\n",
       "       'ASS1_FLD_CD', 'ASS2_FLD_CD', 'ASS3_FLD_CD', 'ASS4_FLD_CD',\n",
       "       'ASS5_FLD_CD', 'EVENT_ID', 'hit'],\n",
       "      dtype='object')"
      ]
     },
     "execution_count": 24,
     "metadata": {},
     "output_type": "execute_result"
    }
   ],
   "source": [
    "df.columns"
   ]
  },
  {
   "cell_type": "code",
   "execution_count": 25,
   "metadata": {},
   "outputs": [
    {
     "data": {
      "text/plain": [
       "array([  1,   2,   3,   4,   5,   6,   7,   8,   9,  10,  11,  12,  13,\n",
       "        14,  15,  16,  17,  18,  19,  20,  21,  22,  23,  24,  25,  26,\n",
       "        27,  28,  29,  30,  31,  32,  33,  34,  35,  36,  37,  38,  39,\n",
       "        40,  41,  42,  43,  44,  45,  46,  47,  48,  49,  50,  51,  52,\n",
       "        53,  54,  55,  56,  57,  58,  59,  60,  61,  62,  63,  64,  65,\n",
       "        66,  67,  68,  69,  70,  71,  72,  73,  74,  75,  76,  77,  78,\n",
       "        79,  80,  81,  82,  83,  84,  85,  86,  87,  88,  89,  90,  91,\n",
       "        92,  93,  94,  95,  96,  97,  98,  99, 100, 101, 102, 103, 104,\n",
       "       105, 106, 107, 108, 109, 110, 111, 112, 113, 114, 115, 116, 117,\n",
       "       118, 119, 120, 121, 122, 123, 124, 125, 126, 127, 128, 129, 130,\n",
       "       131, 132, 133, 134, 135, 136, 137, 138, 139, 140, 141, 142, 143,\n",
       "       144, 145, 146, 147, 148, 149, 150, 151], dtype=int64)"
      ]
     },
     "execution_count": 25,
     "metadata": {},
     "output_type": "execute_result"
    }
   ],
   "source": [
    "df.EVENT_ID.unique()"
   ]
  },
  {
   "cell_type": "code",
   "execution_count": null,
   "metadata": {},
   "outputs": [],
   "source": []
  }
 ],
 "metadata": {
  "kernelspec": {
   "display_name": "Python 3",
   "language": "python",
   "name": "python3"
  },
  "language_info": {
   "codemirror_mode": {
    "name": "ipython",
    "version": 3
   },
   "file_extension": ".py",
   "mimetype": "text/x-python",
   "name": "python",
   "nbconvert_exporter": "python",
   "pygments_lexer": "ipython3",
   "version": "3.7.4"
  }
 },
 "nbformat": 4,
 "nbformat_minor": 2
}
